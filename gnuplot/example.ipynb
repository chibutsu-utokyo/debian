{
 "cells": [
  {
   "cell_type": "markdown",
   "metadata": {},
   "source": [
    "# 実行方法\n",
    "VS Code上でこのファイルを実行するには，「gnuplotカーネル」を使う必要があります．\n",
    "\n",
    "右上の「カーネルを選択」→「Jupyter Kernel」→ 「gnuplot」を選択してください．"
   ]
  },
  {
   "cell_type": "code",
   "execution_count": null,
   "metadata": {},
   "outputs": [],
   "source": [
    "%gnuplot inline pngcairo size 480, 360"
   ]
  },
  {
   "cell_type": "code",
   "execution_count": null,
   "metadata": {},
   "outputs": [],
   "source": [
    "plot sin(x)"
   ]
  },
  {
   "cell_type": "code",
   "execution_count": null,
   "metadata": {},
   "outputs": [],
   "source": [
    "set xrange[-pi:+pi]\n",
    "set yrange[-1.5:+1.5]\n",
    "set grid\n",
    "plot cos(2*x) title \"cosine\", sin(2*x) title \"sine\""
   ]
  },
  {
   "cell_type": "code",
   "execution_count": null,
   "metadata": {},
   "outputs": [],
   "source": []
  }
 ],
 "metadata": {
  "kernelspec": {
   "display_name": "gnuplot",
   "language": "gnuplot",
   "name": "gnuplot"
  },
  "language_info": {
   "codemirror_mode": "Octave",
   "file_extension": ".gp",
   "help_links": [
    {
     "text": "MetaKernel Magics",
     "url": "https://metakernel.readthedocs.io/en/latest/source/README.html"
    }
   ],
   "mimetype": "text/x-gnuplot",
   "name": "gnuplot"
  }
 },
 "nbformat": 4,
 "nbformat_minor": 2
}
